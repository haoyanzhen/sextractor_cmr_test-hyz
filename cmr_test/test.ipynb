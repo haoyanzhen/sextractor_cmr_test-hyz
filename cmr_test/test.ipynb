{
 "cells": [
  {
   "cell_type": "code",
   "execution_count": 2,
   "metadata": {},
   "outputs": [],
   "source": [
    "from astropy.table import Table\n"
   ]
  },
  {
   "cell_type": "markdown",
   "metadata": {},
   "source": [
    "经过实验，不能通过with来使用Table.read，只能用删除变量的方式了\n",
    "- 原因是Table.read没有定义__enter__() 和 __exit__()"
   ]
  },
  {
   "cell_type": "code",
   "execution_count": 4,
   "metadata": {},
   "outputs": [
    {
     "name": "stderr",
     "output_type": "stream",
     "text": [
      "WARNING: hdu= was not specified but multiple tables are present, reading in first available table (hdu=1) [astropy.io.fits.connect]\n"
     ]
    },
    {
     "data": {
      "text/html": [
       "<div><i>Table length=1</i>\n",
       "<table id=\"table140443387911600\" class=\"table-striped table-bordered table-condensed\">\n",
       "<thead><tr><th>Field Header Card [101]</th></tr></thead>\n",
       "<thead><tr><th>bytes80</th></tr></thead>\n",
       "<tr><td>XTENSION= &apos;IMAGE   &apos;           / Image extension                                 .. END</td></tr>\n",
       "</table></div>"
      ],
      "text/plain": [
       "<Table length=1>\n",
       "                                                                      Field Header Card [101]                                                                       \n",
       "                                                                              bytes80                                                                               \n",
       "--------------------------------------------------------------------------------------------------------------------------------------------------------------------\n",
       "XTENSION= 'IMAGE   '           / Image extension                                 .. END                                                                             "
      ]
     },
     "execution_count": 4,
     "metadata": {},
     "output_type": "execute_result"
    }
   ],
   "source": [
    "cat = Table.read('cmr.acat')\n",
    "cat"
   ]
  },
  {
   "cell_type": "code",
   "execution_count": 5,
   "metadata": {},
   "outputs": [
    {
     "ename": "NameError",
     "evalue": "name 'cat' is not defined",
     "output_type": "error",
     "traceback": [
      "\u001b[0;31m---------------------------------------------------------------------------\u001b[0m",
      "\u001b[0;31mNameError\u001b[0m                                 Traceback (most recent call last)",
      "\u001b[1;32m/home/hyz/da/testhub/cmr_test/test.ipynb Cell 3\u001b[0m in \u001b[0;36m<cell line: 2>\u001b[0;34m()\u001b[0m\n\u001b[1;32m      <a href='vscode-notebook-cell:/home/hyz/da/testhub/cmr_test/test.ipynb#W2sZmlsZQ%3D%3D?line=0'>1</a>\u001b[0m \u001b[39mdel\u001b[39;00m cat\n\u001b[0;32m----> <a href='vscode-notebook-cell:/home/hyz/da/testhub/cmr_test/test.ipynb#W2sZmlsZQ%3D%3D?line=1'>2</a>\u001b[0m cat\n",
      "\u001b[0;31mNameError\u001b[0m: name 'cat' is not defined"
     ]
    }
   ],
   "source": [
    "del cat\n",
    "cat"
   ]
  }
 ],
 "metadata": {
  "kernelspec": {
   "display_name": "Python 3.10.6 ('photo')",
   "language": "python",
   "name": "python3"
  },
  "language_info": {
   "codemirror_mode": {
    "name": "ipython",
    "version": 3
   },
   "file_extension": ".py",
   "mimetype": "text/x-python",
   "name": "python",
   "nbconvert_exporter": "python",
   "pygments_lexer": "ipython3",
   "version": "3.10.6"
  },
  "orig_nbformat": 4,
  "vscode": {
   "interpreter": {
    "hash": "18604e9fb1e914f1b81b3032b18c0da7d5132f80ef2bee5a5040069f81df1c1b"
   }
  }
 },
 "nbformat": 4,
 "nbformat_minor": 2
}
